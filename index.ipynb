{
 "cells": [
  {
   "cell_type": "markdown",
   "metadata": {},
   "source": [
    "# Section Recap"
   ]
  },
  {
   "cell_type": "markdown",
   "metadata": {},
   "source": [
    "## Introduction\n",
    "\n",
    "This short lesson summarizes key takeaways from this section. "
   ]
  },
  {
   "cell_type": "markdown",
   "metadata": {},
   "source": [
    "## Objectives\n",
    "You will be able to:\n",
    "* Understand and explain what was covered in this section\n",
    "* Understand and explain why this section will help you become a data scientist"
   ]
  },
  {
   "cell_type": "markdown",
   "metadata": {},
   "source": [
    "## Key Takeaways\n",
    "\n",
    "The key takeaways from this section include:\n",
    "\n",
    "* NLP has become increasingly popular over the past few years, and NLP researchers have achieved very insightful analyses.\n",
    "* The Natural Language Tool Kit (NLTK) is one of the most popular Python libraries for NLP\n",
    "* Regular Expressions are an important part of NLP, which can be used for pattern matching and filtering\n",
    "* Regular Expressions can become confusing, so make sure to use our provided cheat sheet the first few times you work with regex\n",
    "* It is strongly recommended you take some time to use a regex tester websites to ensure you understand how changing your regex pattern affects your results when working towards a correct answer!\n",
    "* Feature Engineering is essential when working with text data, and to understand the dynamics of your text\n",
    "* Common feature engineering techniques are removing stop words, stemming, lemmatization, and bigrams\n",
    "* When diving deeper deeper into grammar and linguistics, Context-Free Grammars and Part-Of-Speech tagging is important\n",
    "* In this context, parse trees can help a computer rule when dealing with ambiguous words\n",
    "* _How_ you clean and preprocess your data will have a major effect on the conclusions you'll be able to draw in your NLP classification problem"
   ]
  }
 ],
 "metadata": {
  "kernelspec": {
   "display_name": "Python 3",
   "language": "python",
   "name": "python3"
  },
  "language_info": {
   "codemirror_mode": {
    "name": "ipython",
    "version": 3
   },
   "file_extension": ".py",
   "mimetype": "text/x-python",
   "name": "python",
   "nbconvert_exporter": "python",
   "pygments_lexer": "ipython3",
   "version": "3.6.9"
  }
 },
 "nbformat": 4,
 "nbformat_minor": 2
}
